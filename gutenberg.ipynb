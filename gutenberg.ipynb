{
 "cells": [
  {
   "cell_type": "code",
   "execution_count": 32,
   "id": "d98c8bd7",
   "metadata": {},
   "outputs": [
    {
     "name": "stdout",
     "output_type": "stream",
     "text": [
      "\n",
      "# conda environments:\n",
      "#\n",
      "base                   C:\\Users\\User\\miniconda3\n",
      "condaIntroToDSPProject   C:\\Users\\User\\miniconda3\\envs\\condaIntroToDSPProject\n",
      "h501-gutenberg         C:\\Users\\User\\miniconda3\\envs\\h501-gutenberg\n",
      "h501-gutenberg-1     * C:\\Users\\User\\miniconda3\\envs\\h501-gutenberg-1\n",
      "h501-gutenberg-1       c:\\Users\\User\\miniconda3\\envs\\h501-gutenberg-1\n",
      "\n"
     ]
    }
   ],
   "source": [
    "!conda env list"
   ]
  },
  {
   "cell_type": "markdown",
   "id": "f9828af6",
   "metadata": {},
   "source": [
    "# conda environments:\n",
    "#\n",
    "base                   C:\\Users\\User\\miniconda3\n",
    "condaIntroToDSPProject   C:\\Users\\User\\miniconda3\\envs\\condaIntroToDSPProject\n",
    "h501-gutenberg         C:\\Users\\User\\miniconda3\\envs\\h501-gutenberg\n",
    "h501-gutenberg-1     * C:\\Users\\User\\miniconda3\\envs\\h501-gutenberg-1\n",
    "h501-gutenberg-1       c:\\Users\\User\\miniconda3\\envs\\h501-gutenberg-1"
   ]
  },
  {
   "cell_type": "code",
   "execution_count": 33,
   "id": "8ee02848",
   "metadata": {},
   "outputs": [
    {
     "name": "stdout",
     "output_type": "stream",
     "text": [
      "matplotlib data path: c:\\Users\\User\\miniconda3\\envs\\h501-gutenberg-1\\Lib\\site-packages\\matplotlib\\mpl-data\n",
      "CONFIGDIR=C:\\Users\\User\\.matplotlib\n",
      "interactive is False\n",
      "platform is win32\n",
      "CACHEDIR=C:\\Users\\User\\.matplotlib\n",
      "font search path [WindowsPath('c:/Users/User/miniconda3/envs/h501-gutenberg-1/Lib/site-packages/matplotlib/mpl-data/fonts/ttf'), WindowsPath('c:/Users/User/miniconda3/envs/h501-gutenberg-1/Lib/site-packages/matplotlib/mpl-data/fonts/afm'), WindowsPath('c:/Users/User/miniconda3/envs/h501-gutenberg-1/Lib/site-packages/matplotlib/mpl-data/fonts/pdfcorefonts')]\n",
      "generated new fontManager\n"
     ]
    }
   ],
   "source": [
    "import pandas as pd\n",
    "import numpy as np\n",
    "import seaborn as sns\n",
    "\n",
    "gutenberg_authors = pd.read_csv('https://raw.githubusercontent.com/rfordatascience/tidytuesday/main/data/2025/2025-06-03/gutenberg_authors.csv')\n",
    "gutenberg_languages = pd.read_csv('https://raw.githubusercontent.com/rfordatascience/tidytuesday/main/data/2025/2025-06-03/gutenberg_languages.csv')\n",
    "gutenberg_metadata = pd.read_csv('https://raw.githubusercontent.com/rfordatascience/tidytuesday/main/data/2025/2025-06-03/gutenberg_metadata.csv')\n",
    "gutenberg_subjects = pd.read_csv('https://raw.githubusercontent.com/rfordatascience/tidytuesday/main/data/2025/2025-06-03/gutenberg_subjects.csv')\n"
   ]
  },
  {
   "cell_type": "code",
   "execution_count": 34,
   "id": "ea28d0fd",
   "metadata": {},
   "outputs": [],
   "source": [
    "#list_authors = gutenberg_authors['alias'].values.tolist()\n",
    "#()by_languages=True, alias=True\n",
    "#print(list_authors)"
   ]
  },
  {
   "cell_type": "code",
   "execution_count": 41,
   "id": "b933f418",
   "metadata": {},
   "outputs": [
    {
     "ename": "TypeError",
     "evalue": "expected string or bytes-like object, got 'float'",
     "output_type": "error",
     "traceback": [
      "\u001b[31m---------------------------------------------------------------------------\u001b[39m",
      "\u001b[31mTypeError\u001b[39m                                 Traceback (most recent call last)",
      "\u001b[36mCell\u001b[39m\u001b[36m \u001b[39m\u001b[32mIn[41]\u001b[39m\u001b[32m, line 6\u001b[39m\n\u001b[32m      3\u001b[39m     \u001b[38;5;28;01mreturn\u001b[39;00m list_authors\n\u001b[32m      5\u001b[39m \u001b[38;5;28;01mfrom\u001b[39;00m\u001b[38;5;250m \u001b[39m\u001b[34;01msetuptools\u001b[39;00m\u001b[38;5;250m \u001b[39m\u001b[38;5;28;01mimport\u001b[39;00m setup, find_packages\n\u001b[32m----> \u001b[39m\u001b[32m6\u001b[39m \u001b[43msetup\u001b[49m\u001b[43m(\u001b[49m\n\u001b[32m      7\u001b[39m \u001b[43m    \u001b[49m\u001b[43mname\u001b[49m\u001b[43m=\u001b[49m\u001b[43m \u001b[49m\u001b[33;43m'\u001b[39;49m\u001b[33;43mmy_gutenberg_package_lrtolley\u001b[39;49m\u001b[33;43m'\u001b[39;49m\u001b[43m,\u001b[49m\n\u001b[32m      8\u001b[39m \u001b[43m    \u001b[49m\u001b[43mversion\u001b[49m\u001b[43m=\u001b[49m\u001b[33;43m'\u001b[39;49m\u001b[33;43m0.1.0\u001b[39;49m\u001b[33;43m'\u001b[39;49m\u001b[43m,\u001b[49m\n\u001b[32m      9\u001b[39m \u001b[43m    \u001b[49m\u001b[43mpackages\u001b[49m\u001b[43m=\u001b[49m\u001b[43mlist_aliases\u001b[49m\u001b[43m(\u001b[49m\u001b[43m)\u001b[49m\u001b[43m,\u001b[49m\n\u001b[32m     10\u001b[39m \u001b[43m    \u001b[49m\u001b[43mdescription\u001b[49m\u001b[43m=\u001b[49m\u001b[33;43m'\u001b[39;49m\u001b[33;43mExercise 3 for IUI H501 - Week 4 - Gutenberg Alias List\u001b[39;49m\u001b[33;43m'\u001b[39;49m\u001b[43m,\u001b[49m\n\u001b[32m     11\u001b[39m \u001b[43m    \u001b[49m\u001b[43mauthor\u001b[49m\u001b[43m=\u001b[49m\u001b[33;43m'\u001b[39;49m\u001b[33;43mLauren Tolley\u001b[39;49m\u001b[33;43m'\u001b[39;49m\u001b[43m,\u001b[49m\n\u001b[32m     12\u001b[39m \u001b[43m    \u001b[49m\u001b[43mauthor_email\u001b[49m\u001b[43m=\u001b[49m\u001b[33;43m'\u001b[39;49m\u001b[33;43mltolley@iu.edu\u001b[39;49m\u001b[33;43m'\u001b[39;49m\u001b[43m,\u001b[49m\n\u001b[32m     13\u001b[39m \u001b[43m    \u001b[49m\u001b[43m)\u001b[49m\n",
      "\u001b[36mFile \u001b[39m\u001b[32mc:\\Users\\User\\miniconda3\\envs\\h501-gutenberg-1\\Lib\\site-packages\\setuptools\\__init__.py:115\u001b[39m, in \u001b[36msetup\u001b[39m\u001b[34m(**attrs)\u001b[39m\n\u001b[32m    113\u001b[39m \u001b[38;5;66;03m# Make sure we have any requirements needed to interpret 'attrs'.\u001b[39;00m\n\u001b[32m    114\u001b[39m _install_setup_requires(attrs)\n\u001b[32m--> \u001b[39m\u001b[32m115\u001b[39m \u001b[38;5;28;01mreturn\u001b[39;00m \u001b[43mdistutils\u001b[49m\u001b[43m.\u001b[49m\u001b[43mcore\u001b[49m\u001b[43m.\u001b[49m\u001b[43msetup\u001b[49m\u001b[43m(\u001b[49m\u001b[43m*\u001b[49m\u001b[43m*\u001b[49m\u001b[43mattrs\u001b[49m\u001b[43m)\u001b[49m\n",
      "\u001b[36mFile \u001b[39m\u001b[32mc:\\Users\\User\\miniconda3\\envs\\h501-gutenberg-1\\Lib\\site-packages\\setuptools\\_distutils\\core.py:148\u001b[39m, in \u001b[36msetup\u001b[39m\u001b[34m(**attrs)\u001b[39m\n\u001b[32m    145\u001b[39m \u001b[38;5;66;03m# Create the Distribution instance, using the remaining arguments\u001b[39;00m\n\u001b[32m    146\u001b[39m \u001b[38;5;66;03m# (ie. everything except distclass) to initialize it\u001b[39;00m\n\u001b[32m    147\u001b[39m \u001b[38;5;28;01mtry\u001b[39;00m:\n\u001b[32m--> \u001b[39m\u001b[32m148\u001b[39m     _setup_distribution = dist = \u001b[43mklass\u001b[49m\u001b[43m(\u001b[49m\u001b[43mattrs\u001b[49m\u001b[43m)\u001b[49m\n\u001b[32m    149\u001b[39m \u001b[38;5;28;01mexcept\u001b[39;00m DistutilsSetupError \u001b[38;5;28;01mas\u001b[39;00m msg:\n\u001b[32m    150\u001b[39m     \u001b[38;5;28;01mif\u001b[39;00m \u001b[33m'\u001b[39m\u001b[33mname\u001b[39m\u001b[33m'\u001b[39m \u001b[38;5;129;01mnot\u001b[39;00m \u001b[38;5;129;01min\u001b[39;00m attrs:\n",
      "\u001b[36mFile \u001b[39m\u001b[32mc:\\Users\\User\\miniconda3\\envs\\h501-gutenberg-1\\Lib\\site-packages\\setuptools\\dist.py:321\u001b[39m, in \u001b[36mDistribution.__init__\u001b[39m\u001b[34m(self, attrs)\u001b[39m\n\u001b[32m    319\u001b[39m metadata_only -= {\u001b[33m\"\u001b[39m\u001b[33minstall_requires\u001b[39m\u001b[33m\"\u001b[39m, \u001b[33m\"\u001b[39m\u001b[33mextras_require\u001b[39m\u001b[33m\"\u001b[39m}\n\u001b[32m    320\u001b[39m dist_attrs = {k: v \u001b[38;5;28;01mfor\u001b[39;00m k, v \u001b[38;5;129;01min\u001b[39;00m attrs.items() \u001b[38;5;28;01mif\u001b[39;00m k \u001b[38;5;129;01mnot\u001b[39;00m \u001b[38;5;129;01min\u001b[39;00m metadata_only}\n\u001b[32m--> \u001b[39m\u001b[32m321\u001b[39m \u001b[43m_Distribution\u001b[49m\u001b[43m.\u001b[49m\u001b[34;43m__init__\u001b[39;49m\u001b[43m(\u001b[49m\u001b[38;5;28;43mself\u001b[39;49m\u001b[43m,\u001b[49m\u001b[43m \u001b[49m\u001b[43mdist_attrs\u001b[49m\u001b[43m)\u001b[49m\n\u001b[32m    323\u001b[39m \u001b[38;5;66;03m# Private API (setuptools-use only, not restricted to Distribution)\u001b[39;00m\n\u001b[32m    324\u001b[39m \u001b[38;5;66;03m# Stores files that are referenced by the configuration and need to be in the\u001b[39;00m\n\u001b[32m    325\u001b[39m \u001b[38;5;66;03m# sdist (e.g. `version = file: VERSION.txt`)\u001b[39;00m\n\u001b[32m    326\u001b[39m \u001b[38;5;28mself\u001b[39m._referenced_files = \u001b[38;5;28mset\u001b[39m[\u001b[38;5;28mstr\u001b[39m]()\n",
      "\u001b[36mFile \u001b[39m\u001b[32mc:\\Users\\User\\miniconda3\\envs\\h501-gutenberg-1\\Lib\\site-packages\\setuptools\\_distutils\\dist.py:309\u001b[39m, in \u001b[36mDistribution.__init__\u001b[39m\u001b[34m(self, attrs)\u001b[39m\n\u001b[32m    306\u001b[39m             \u001b[38;5;28mself\u001b[39m.want_user_cfg = \u001b[38;5;28;01mFalse\u001b[39;00m\n\u001b[32m    307\u001b[39m             \u001b[38;5;28;01mbreak\u001b[39;00m\n\u001b[32m--> \u001b[39m\u001b[32m309\u001b[39m \u001b[38;5;28;43mself\u001b[39;49m\u001b[43m.\u001b[49m\u001b[43mfinalize_options\u001b[49m\u001b[43m(\u001b[49m\u001b[43m)\u001b[49m\n",
      "\u001b[36mFile \u001b[39m\u001b[32mc:\\Users\\User\\miniconda3\\envs\\h501-gutenberg-1\\Lib\\site-packages\\setuptools\\dist.py:784\u001b[39m, in \u001b[36mDistribution.finalize_options\u001b[39m\u001b[34m(self)\u001b[39m\n\u001b[32m    782\u001b[39m loaded = \u001b[38;5;28mmap\u001b[39m(\u001b[38;5;28;01mlambda\u001b[39;00m e: e.load(), filtered)\n\u001b[32m    783\u001b[39m \u001b[38;5;28;01mfor\u001b[39;00m ep \u001b[38;5;129;01min\u001b[39;00m \u001b[38;5;28msorted\u001b[39m(loaded, key=by_order):\n\u001b[32m--> \u001b[39m\u001b[32m784\u001b[39m     \u001b[43mep\u001b[49m\u001b[43m(\u001b[49m\u001b[38;5;28;43mself\u001b[39;49m\u001b[43m)\u001b[49m\n",
      "\u001b[36mFile \u001b[39m\u001b[32mc:\\Users\\User\\miniconda3\\envs\\h501-gutenberg-1\\Lib\\site-packages\\setuptools\\dist.py:804\u001b[39m, in \u001b[36mDistribution._finalize_setup_keywords\u001b[39m\u001b[34m(self)\u001b[39m\n\u001b[32m    802\u001b[39m value = \u001b[38;5;28mgetattr\u001b[39m(\u001b[38;5;28mself\u001b[39m, ep.name, \u001b[38;5;28;01mNone\u001b[39;00m)\n\u001b[32m    803\u001b[39m \u001b[38;5;28;01mif\u001b[39;00m value \u001b[38;5;129;01mis\u001b[39;00m \u001b[38;5;129;01mnot\u001b[39;00m \u001b[38;5;28;01mNone\u001b[39;00m:\n\u001b[32m--> \u001b[39m\u001b[32m804\u001b[39m     \u001b[43mep\u001b[49m\u001b[43m.\u001b[49m\u001b[43mload\u001b[49m\u001b[43m(\u001b[49m\u001b[43m)\u001b[49m\u001b[43m(\u001b[49m\u001b[38;5;28;43mself\u001b[39;49m\u001b[43m,\u001b[49m\u001b[43m \u001b[49m\u001b[43mep\u001b[49m\u001b[43m.\u001b[49m\u001b[43mname\u001b[49m\u001b[43m,\u001b[49m\u001b[43m \u001b[49m\u001b[43mvalue\u001b[49m\u001b[43m)\u001b[49m\n",
      "\u001b[36mFile \u001b[39m\u001b[32mc:\\Users\\User\\miniconda3\\envs\\h501-gutenberg-1\\Lib\\site-packages\\setuptools\\dist.py:227\u001b[39m, in \u001b[36mcheck_packages\u001b[39m\u001b[34m(dist, attr, value)\u001b[39m\n\u001b[32m    225\u001b[39m \u001b[38;5;28;01mdef\u001b[39;00m\u001b[38;5;250m \u001b[39m\u001b[34mcheck_packages\u001b[39m(dist, attr, value):\n\u001b[32m    226\u001b[39m     \u001b[38;5;28;01mfor\u001b[39;00m pkgname \u001b[38;5;129;01min\u001b[39;00m value:\n\u001b[32m--> \u001b[39m\u001b[32m227\u001b[39m         \u001b[38;5;28;01mif\u001b[39;00m \u001b[38;5;129;01mnot\u001b[39;00m \u001b[43mre\u001b[49m\u001b[43m.\u001b[49m\u001b[43mmatch\u001b[49m\u001b[43m(\u001b[49m\u001b[33;43mr\u001b[39;49m\u001b[33;43m'\u001b[39;49m\u001b[33;43m\\\u001b[39;49m\u001b[33;43mw+(\u001b[39;49m\u001b[33;43m\\\u001b[39;49m\u001b[33;43m.\u001b[39;49m\u001b[33;43m\\\u001b[39;49m\u001b[33;43mw+)*\u001b[39;49m\u001b[33;43m'\u001b[39;49m\u001b[43m,\u001b[49m\u001b[43m \u001b[49m\u001b[43mpkgname\u001b[49m\u001b[43m)\u001b[49m:\n\u001b[32m    228\u001b[39m             distutils.log.warn(\n\u001b[32m    229\u001b[39m                 \u001b[33m\"\u001b[39m\u001b[33mWARNING: \u001b[39m\u001b[38;5;132;01m%r\u001b[39;00m\u001b[33m not a valid package name; please use only \u001b[39m\u001b[33m\"\u001b[39m\n\u001b[32m    230\u001b[39m                 \u001b[33m\"\u001b[39m\u001b[33m.-separated package names in setup.py\u001b[39m\u001b[33m\"\u001b[39m,\n\u001b[32m    231\u001b[39m                 pkgname,\n\u001b[32m    232\u001b[39m             )\n",
      "\u001b[36mFile \u001b[39m\u001b[32mc:\\Users\\User\\miniconda3\\envs\\h501-gutenberg-1\\Lib\\re\\__init__.py:167\u001b[39m, in \u001b[36mmatch\u001b[39m\u001b[34m(pattern, string, flags)\u001b[39m\n\u001b[32m    164\u001b[39m \u001b[38;5;28;01mdef\u001b[39;00m\u001b[38;5;250m \u001b[39m\u001b[34mmatch\u001b[39m(pattern, string, flags=\u001b[32m0\u001b[39m):\n\u001b[32m    165\u001b[39m \u001b[38;5;250m    \u001b[39m\u001b[33;03m\"\"\"Try to apply the pattern at the start of the string, returning\u001b[39;00m\n\u001b[32m    166\u001b[39m \u001b[33;03m    a Match object, or None if no match was found.\"\"\"\u001b[39;00m\n\u001b[32m--> \u001b[39m\u001b[32m167\u001b[39m     \u001b[38;5;28;01mreturn\u001b[39;00m \u001b[43m_compile\u001b[49m\u001b[43m(\u001b[49m\u001b[43mpattern\u001b[49m\u001b[43m,\u001b[49m\u001b[43m \u001b[49m\u001b[43mflags\u001b[49m\u001b[43m)\u001b[49m\u001b[43m.\u001b[49m\u001b[43mmatch\u001b[49m\u001b[43m(\u001b[49m\u001b[43mstring\u001b[49m\u001b[43m)\u001b[49m\n",
      "\u001b[31mTypeError\u001b[39m: expected string or bytes-like object, got 'float'"
     ]
    }
   ],
   "source": [
    "def list_aliases():\n",
    "    list_authors = gutenberg_authors['alias'].values.tolist()\n",
    "    return list_authors\n",
    "\n",
    "from setuptools import setup, find_packages\n",
    "setup(\n",
    "    name= 'my_gutenberg_package_lrtolley',\n",
    "    version='0.1.0',\n",
    "    packages=list_aliases(),\n",
    "    description='Exercise 3 for IUI H501 - Week 4 - Gutenberg Alias List',\n",
    "    author='Lauren Tolley',\n",
    "    author_email='ltolley@iu.edu',\n",
    "    )\n",
    "\n"
   ]
  }
 ],
 "metadata": {
  "kernelspec": {
   "display_name": "h501-gutenberg-1",
   "language": "python",
   "name": "python3"
  },
  "language_info": {
   "codemirror_mode": {
    "name": "ipython",
    "version": 3
   },
   "file_extension": ".py",
   "mimetype": "text/x-python",
   "name": "python",
   "nbconvert_exporter": "python",
   "pygments_lexer": "ipython3",
   "version": "3.13.7"
  }
 },
 "nbformat": 4,
 "nbformat_minor": 5
}
