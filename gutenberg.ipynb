{
 "cells": [
  {
   "cell_type": "code",
   "execution_count": 32,
   "id": "d98c8bd7",
   "metadata": {},
   "outputs": [
    {
     "name": "stdout",
     "output_type": "stream",
     "text": [
      "\n",
      "# conda environments:\n",
      "#\n",
      "base                   C:\\Users\\User\\miniconda3\n",
      "condaIntroToDSPProject   C:\\Users\\User\\miniconda3\\envs\\condaIntroToDSPProject\n",
      "h501-gutenberg         C:\\Users\\User\\miniconda3\\envs\\h501-gutenberg\n",
      "h501-gutenberg-1     * C:\\Users\\User\\miniconda3\\envs\\h501-gutenberg-1\n",
      "h501-gutenberg-1       c:\\Users\\User\\miniconda3\\envs\\h501-gutenberg-1\n",
      "\n"
     ]
    }
   ],
   "source": [
    "!conda env list"
   ]
  },
  {
   "cell_type": "markdown",
   "id": "f9828af6",
   "metadata": {},
   "source": [
    "# conda environments:\n",
    "#\n",
    "base                   C:\\Users\\User\\miniconda3\n",
    "condaIntroToDSPProject   C:\\Users\\User\\miniconda3\\envs\\condaIntroToDSPProject\n",
    "h501-gutenberg         C:\\Users\\User\\miniconda3\\envs\\h501-gutenberg\n",
    "h501-gutenberg-1     * C:\\Users\\User\\miniconda3\\envs\\h501-gutenberg-1\n",
    "h501-gutenberg-1       c:\\Users\\User\\miniconda3\\envs\\h501-gutenberg-1"
   ]
  },
  {
   "cell_type": "code",
   "execution_count": null,
   "id": "f9eeb81f",
   "metadata": {},
   "outputs": [],
   "source": [
    "from gutenberg_pkg.core import list_aliases\n",
    "print(list_aliases())"
   ]
  }
 ],
 "metadata": {
  "kernelspec": {
   "display_name": "h501-gutenberg",
   "language": "python",
   "name": "python3"
  },
  "language_info": {
   "codemirror_mode": {
    "name": "ipython",
    "version": 3
   },
   "file_extension": ".py",
   "mimetype": "text/x-python",
   "name": "python",
   "nbconvert_exporter": "python",
   "pygments_lexer": "ipython3",
   "version": "3.13.7"
  }
 },
 "nbformat": 4,
 "nbformat_minor": 5
}
